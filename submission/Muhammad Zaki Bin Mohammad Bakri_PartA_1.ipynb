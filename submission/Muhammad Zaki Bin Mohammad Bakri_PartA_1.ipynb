{
 "cells": [
  {
   "cell_type": "markdown",
   "id": "d01f9669-6940-4311-bcf9-e930ba3457f2",
   "metadata": {
    "deletable": false,
    "editable": false,
    "id": "d01f9669-6940-4311-bcf9-e930ba3457f2",
    "nbgrader": {
     "cell_type": "markdown",
     "checksum": "2ad988175a8c2593a35c27c5a89d6ea5",
     "grade": false,
     "grade_id": "a1",
     "locked": true,
     "schema_version": 3,
     "solution": false,
     "task": false
    },
    "tags": []
   },
   "source": [
    "# Question A1 (15 marks)"
   ]
  },
  {
   "cell_type": "markdown",
   "id": "2fd870a1-6368-4b4f-9cbb-7eac0acda4ec",
   "metadata": {
    "deletable": false,
    "editable": false,
    "id": "2fd870a1-6368-4b4f-9cbb-7eac0acda4ec",
    "nbgrader": {
     "cell_type": "markdown",
     "checksum": "74435a282dd0f8cb4705e88829506c4e",
     "grade": false,
     "grade_id": "a1_overall",
     "locked": true,
     "schema_version": 3,
     "solution": false,
     "task": false
    },
    "tags": []
   },
   "source": [
    "#### Design a feedforward deep neural network (DNN) which consists of **three** hidden layers of 128 neurons each with ReLU activation function, and an output layer with sigmoid activation function. Apply dropout of probability **0.2** to each of the hidden layers.\n",
    "\n",
    "* note: some cells are non-editable and cannot be filled, but leave them untouched. Fill up only cells which are provided."
   ]
  },
  {
   "cell_type": "code",
   "execution_count": 1,
   "id": "3af871c6-6baa-4eff-b46a-eb7a81faac13",
   "metadata": {
    "deletable": false,
    "editable": false,
    "id": "3af871c6-6baa-4eff-b46a-eb7a81faac13",
    "nbgrader": {
     "cell_type": "code",
     "checksum": "909acb3c7ff3883eb5381eb586615d3b",
     "grade": false,
     "grade_id": "libraries",
     "locked": true,
     "schema_version": 3,
     "solution": false,
     "task": false
    },
    "tags": []
   },
   "outputs": [],
   "source": [
    "import tqdm\n",
    "import time\n",
    "import random\n",
    "import numpy as np\n",
    "import pandas as pd\n",
    "import matplotlib.pyplot as plt\n",
    "\n",
    "import torch\n",
    "from torch import nn\n",
    "from torch.utils.data import Dataset\n",
    "from torch.utils.data import DataLoader\n",
    "\n",
    "from scipy.io import wavfile as wav\n",
    "\n",
    "from sklearn import preprocessing\n",
    "from sklearn.model_selection import KFold\n",
    "from sklearn.model_selection import train_test_split\n",
    "from sklearn.metrics import f1_score, precision_score, recall_score, confusion_matrix\n",
    "\n",
    "from common_utils import set_seed\n",
    "\n",
    "# setting seed\n",
    "set_seed()"
   ]
  },
  {
   "cell_type": "markdown",
   "id": "27828402-6f73-4afc-ad4b-d537b94406fc",
   "metadata": {
    "deletable": false,
    "editable": false,
    "id": "27828402-6f73-4afc-ad4b-d537b94406fc",
    "nbgrader": {
     "cell_type": "markdown",
     "checksum": "238677075e1bc63851fa208a1937b0d0",
     "grade": false,
     "grade_id": "a1_1_2",
     "locked": true,
     "schema_version": 3,
     "solution": false,
     "task": false
    },
    "tags": []
   },
   "source": [
    "1. Define the model class."
   ]
  },
  {
   "cell_type": "code",
   "execution_count": 2,
   "id": "f0a262dc-01fc-42d3-9554-a2a9b41db5f6",
   "metadata": {
    "deletable": false,
    "id": "f0a262dc-01fc-42d3-9554-a2a9b41db5f6",
    "nbgrader": {
     "cell_type": "code",
     "checksum": "ffe9e91761659732c1cda9441c248079",
     "grade": false,
     "grade_id": "mlp",
     "locked": false,
     "schema_version": 3,
     "solution": true,
     "task": false
    },
    "tags": []
   },
   "outputs": [],
   "source": [
    "class MLP(nn.Module):\n",
    "\n",
    "    def __init__(self, no_features, no_hidden, no_labels):\n",
    "        super().__init__()\n",
    "        self.mlp_stack = nn.Sequential(\n",
    "            # YOUR CODE HERE\n",
    "            nn.Linear(no_features, no_hidden),\n",
    "            nn.ReLU(),\n",
    "            nn.Dropout(p=0.2),\n",
    "            nn.Linear(no_hidden, no_hidden),\n",
    "            nn.ReLU(),\n",
    "            nn.Dropout(p=0.2),\n",
    "            nn.Linear(no_hidden, no_hidden),\n",
    "            nn.ReLU(),\n",
    "            nn.Dropout(p=0.2),\n",
    "            nn.Linear(no_hidden, no_labels),\n",
    "            nn.Sigmoid()\n",
    "        )\n",
    "\n",
    "    # YOUR CODE HERE\n",
    "    def forward(self,x):\n",
    "        logits = self.mlp_stack(x)\n",
    "        return logits"
   ]
  },
  {
   "cell_type": "code",
   "execution_count": null,
   "id": "078b1948-74c4-4619-a23f-3e5c7624ff9a",
   "metadata": {
    "deletable": false,
    "editable": false,
    "id": "078b1948-74c4-4619-a23f-3e5c7624ff9a",
    "nbgrader": {
     "cell_type": "code",
     "checksum": "d390df361e01c7ad9ed2ed99a7e8c891",
     "grade": true,
     "grade_id": "correct_mlp",
     "locked": true,
     "points": 1,
     "schema_version": 3,
     "solution": false,
     "task": false
    },
    "tags": []
   },
   "outputs": [],
   "source": []
  },
  {
   "cell_type": "code",
   "execution_count": null,
   "id": "e77f955d-0cbb-4f45-8a7a-efe0af645fb1",
   "metadata": {
    "deletable": false,
    "editable": false,
    "id": "e77f955d-0cbb-4f45-8a7a-efe0af645fb1",
    "nbgrader": {
     "cell_type": "code",
     "checksum": "acd75cd2a88aa738b9c7ab44fd639829",
     "grade": true,
     "grade_id": "correct_mlp2",
     "locked": true,
     "points": 1,
     "schema_version": 3,
     "solution": false,
     "task": false
    },
    "tags": []
   },
   "outputs": [],
   "source": []
  },
  {
   "cell_type": "markdown",
   "id": "c508f1a3-1781-403e-a6c8-2133c83cf2c0",
   "metadata": {
    "deletable": false,
    "editable": false,
    "id": "c508f1a3-1781-403e-a6c8-2133c83cf2c0",
    "nbgrader": {
     "cell_type": "markdown",
     "checksum": "8fa5e10c9346a8cc9f313cfdeffb29ad",
     "grade": false,
     "grade_id": "a1_2",
     "locked": true,
     "schema_version": 3,
     "solution": false,
     "task": false
    },
    "tags": []
   },
   "source": [
    "#### Divide the dataset into a 70:30 ratio for training and testing. Use **appropriate** scaling of input features. We solely assume that there are only two datasets here: training & test."
   ]
  },
  {
   "cell_type": "markdown",
   "id": "e95fca82-4f7a-4017-8990-e36a78db1560",
   "metadata": {
    "deletable": false,
    "editable": false,
    "id": "e95fca82-4f7a-4017-8990-e36a78db1560",
    "nbgrader": {
     "cell_type": "markdown",
     "checksum": "5b42952eb98d955700c9f15482aa73f1",
     "grade": false,
     "grade_id": "a1_2_1",
     "locked": true,
     "schema_version": 3,
     "solution": false,
     "task": false
    },
    "tags": []
   },
   "source": [
    "1. Split the dataset and do preprocessing."
   ]
  },
  {
   "cell_type": "code",
   "execution_count": 3,
   "id": "c5fa518e-36fc-4071-839f-65766fe06f67",
   "metadata": {
    "deletable": false,
    "id": "c5fa518e-36fc-4071-839f-65766fe06f67",
    "nbgrader": {
     "cell_type": "code",
     "checksum": "7f3aaa6c1bc49a791e2d944fbffa3785",
     "grade": false,
     "grade_id": "preprocess",
     "locked": false,
     "schema_version": 3,
     "solution": true,
     "task": false
    },
    "tags": []
   },
   "outputs": [],
   "source": [
    "from common_utils import split_dataset, preprocess_dataset\n",
    "\n",
    "\n",
    "def preprocess(df):\n",
    "    # YOUR CODE HERE\n",
    "    X_train, y_train, X_test, y_test = split_dataset(df,['filename', 'label'],0.3, random_state=0)\n",
    "    X_train_scaled, X_test_scaled = preprocess_dataset(X_train, X_test)\n",
    "    return X_train_scaled, y_train, X_test_scaled, y_test\n",
    "\n",
    "df = pd.read_csv('simplified.csv')\n",
    "df['label'] = df['filename'].str.split('_').str[-2]\n",
    "\n",
    "# df['label'].value_counts()\n",
    "\n",
    "X_train_scaled, y_train, X_test_scaled, y_test = preprocess(df)"
   ]
  },
  {
   "cell_type": "code",
   "execution_count": null,
   "id": "52d2caa3-82e3-42a1-b2b2-9d7025fe9e47",
   "metadata": {
    "deletable": false,
    "editable": false,
    "id": "52d2caa3-82e3-42a1-b2b2-9d7025fe9e47",
    "nbgrader": {
     "cell_type": "code",
     "checksum": "c00bd6df39380d7a83a15f62195f2c8c",
     "grade": true,
     "grade_id": "correct_preprocess",
     "locked": true,
     "points": 1,
     "schema_version": 3,
     "solution": false,
     "task": false
    },
    "tags": []
   },
   "outputs": [],
   "source": []
  },
  {
   "cell_type": "markdown",
   "id": "a819454c-0064-4d88-a35d-b54a3027f52f",
   "metadata": {
    "deletable": false,
    "editable": false,
    "id": "a819454c-0064-4d88-a35d-b54a3027f52f",
    "nbgrader": {
     "cell_type": "markdown",
     "checksum": "58c39624353d30c202964d96c43a724f",
     "grade": false,
     "grade_id": "a1_3",
     "locked": true,
     "schema_version": 3,
     "solution": false,
     "task": false
    },
    "tags": []
   },
   "source": [
    "#### Use the training dataset to train the model for 100 epochs. Use a mini-batch gradient descent with **‘Adam’** optimizer with learning rate of **0.001**, and **batch size = 256**. Implement early stopping with patience of **3**."
   ]
  },
  {
   "cell_type": "markdown",
   "id": "fc79c097-e526-474a-803f-354465ac02d7",
   "metadata": {
    "deletable": false,
    "editable": false,
    "id": "fc79c097-e526-474a-803f-354465ac02d7",
    "nbgrader": {
     "cell_type": "markdown",
     "checksum": "45710c8274bd2b7689ccd170af7be67c",
     "grade": false,
     "grade_id": "a1_3_1",
     "locked": true,
     "schema_version": 3,
     "solution": false,
     "task": false
    },
    "tags": []
   },
   "source": [
    "1. Define a Pytorch Dataset and Dataloaders.  "
   ]
  },
  {
   "cell_type": "code",
   "execution_count": 4,
   "id": "578b3050-9720-432b-9ef0-c29feba29e68",
   "metadata": {
    "deletable": false,
    "id": "578b3050-9720-432b-9ef0-c29feba29e68",
    "nbgrader": {
     "cell_type": "code",
     "checksum": "808e279fafed9a2b06f06e824dc5fffe",
     "grade": false,
     "grade_id": "pytorch_dataset",
     "locked": false,
     "schema_version": 3,
     "solution": true,
     "task": false
    },
    "tags": []
   },
   "outputs": [],
   "source": [
    "class CustomDataset(Dataset):\n",
    "    # YOUR CODE HERE\n",
    "    def __init__(self, X,y):\n",
    "        self.X = torch.tensor(X, dtype=torch.float)\n",
    "        self.y = torch.tensor(y, dtype=torch.float)\n",
    "    def __len__(self):\n",
    "        return len(self.y)\n",
    "    def __getitem__(self,idx):\n",
    "        return self.X[idx], self.y[idx]\n",
    "\n",
    "def intialise_loaders(X_train_scaled, y_train, X_test_scaled, y_test):\n",
    "    # YOUR CODE HERE\n",
    "    batch_size = 256\n",
    "    train_data = CustomDataset(X_train_scaled, y_train)\n",
    "    test_data = CustomDataset(X_test_scaled, y_test)\n",
    "    train_dataloader = DataLoader(train_data, batch_size=batch_size, shuffle=True)\n",
    "    test_dataloader = DataLoader(test_data, batch_size=batch_size, shuffle=True)\n",
    "    return train_dataloader, test_dataloader\n",
    "\n",
    "train_dataloader, test_dataloader = intialise_loaders(X_train_scaled, y_train, X_test_scaled, y_test)"
   ]
  },
  {
   "cell_type": "code",
   "execution_count": null,
   "id": "ebe01c6c-7011-4990-89bc-0b3c39df05c1",
   "metadata": {
    "deletable": false,
    "editable": false,
    "id": "ebe01c6c-7011-4990-89bc-0b3c39df05c1",
    "nbgrader": {
     "cell_type": "code",
     "checksum": "29ad35220b667d0ccbddf8567df4bbe7",
     "grade": true,
     "grade_id": "correct_pytorch_dataset",
     "locked": true,
     "points": 1,
     "schema_version": 3,
     "solution": false,
     "task": false
    },
    "tags": []
   },
   "outputs": [],
   "source": []
  },
  {
   "cell_type": "code",
   "execution_count": null,
   "id": "30df1d63-bef3-47cb-926f-f32809ccb204",
   "metadata": {
    "deletable": false,
    "editable": false,
    "id": "30df1d63-bef3-47cb-926f-f32809ccb204",
    "nbgrader": {
     "cell_type": "code",
     "checksum": "c4726e1ddc39f6641b2893a082b241ab",
     "grade": true,
     "grade_id": "correct_pytorch_dataset2",
     "locked": true,
     "points": 1,
     "schema_version": 3,
     "solution": false,
     "task": false
    },
    "tags": []
   },
   "outputs": [],
   "source": []
  },
  {
   "cell_type": "code",
   "execution_count": null,
   "id": "718bf3c6-261a-400b-937c-fe092b7e0c6d",
   "metadata": {
    "deletable": false,
    "editable": false,
    "id": "718bf3c6-261a-400b-937c-fe092b7e0c6d",
    "nbgrader": {
     "cell_type": "code",
     "checksum": "20387d776dca6b012684e3a9f6df77dc",
     "grade": true,
     "grade_id": "correct_datasets_loaders",
     "locked": true,
     "points": 1,
     "schema_version": 3,
     "solution": false,
     "task": false
    },
    "tags": []
   },
   "outputs": [],
   "source": []
  },
  {
   "cell_type": "code",
   "execution_count": null,
   "id": "c50c1c87-c3ff-47b2-b051-833bca799d38",
   "metadata": {
    "deletable": false,
    "editable": false,
    "id": "c50c1c87-c3ff-47b2-b051-833bca799d38",
    "nbgrader": {
     "cell_type": "code",
     "checksum": "74ae76c28374fc22d0d54dd664be5a4d",
     "grade": true,
     "grade_id": "correct_datasets_loaders2",
     "locked": true,
     "points": 1,
     "schema_version": 3,
     "solution": false,
     "task": false
    },
    "tags": []
   },
   "outputs": [],
   "source": []
  },
  {
   "cell_type": "markdown",
   "id": "648cceb4-adb2-4e4d-bcc5-6cb9f9e252c6",
   "metadata": {
    "deletable": false,
    "editable": false,
    "id": "648cceb4-adb2-4e4d-bcc5-6cb9f9e252c6",
    "nbgrader": {
     "cell_type": "markdown",
     "checksum": "18d61ee1922cd394e81ef773a74489eb",
     "grade": false,
     "grade_id": "a1_3_3",
     "locked": true,
     "schema_version": 3,
     "solution": false,
     "task": false
    },
    "tags": []
   },
   "source": [
    "2. Next, define the model, optimizer and loss function."
   ]
  },
  {
   "cell_type": "code",
   "execution_count": 5,
   "id": "6608f93a-891f-4bbf-b066-761b56b542df",
   "metadata": {
    "deletable": false,
    "id": "6608f93a-891f-4bbf-b066-761b56b542df",
    "nbgrader": {
     "cell_type": "code",
     "checksum": "b3b057f96943875a86bf5e3bf1cbceb6",
     "grade": false,
     "grade_id": "model_optimizer",
     "locked": false,
     "schema_version": 3,
     "solution": true,
     "task": false
    },
    "tags": []
   },
   "outputs": [],
   "source": [
    "# YOUR CODE HERE\n",
    "model = MLP(77,128,1)\n",
    "optimizer = torch.optim.Adam(model.parameters(), lr=0.001)\n",
    "loss_fn = nn.BCELoss()"
   ]
  },
  {
   "cell_type": "code",
   "execution_count": null,
   "id": "33a4488b-0db9-4710-a08b-508b06440e49",
   "metadata": {
    "deletable": false,
    "editable": false,
    "id": "33a4488b-0db9-4710-a08b-508b06440e49",
    "nbgrader": {
     "cell_type": "code",
     "checksum": "bdd1ad303e792ab0dda5dc0f5da7f4aa",
     "grade": true,
     "grade_id": "correct_model_optimizer",
     "locked": true,
     "points": 1,
     "schema_version": 3,
     "solution": false,
     "task": false
    },
    "tags": []
   },
   "outputs": [],
   "source": []
  },
  {
   "cell_type": "code",
   "execution_count": null,
   "id": "94b1f0fc-fefe-410f-b6bc-00340688505b",
   "metadata": {
    "deletable": false,
    "editable": false,
    "id": "94b1f0fc-fefe-410f-b6bc-00340688505b",
    "nbgrader": {
     "cell_type": "code",
     "checksum": "865e009af2828a7aa6d2503ff3c2f14e",
     "grade": true,
     "grade_id": "correct_model_optimizer2",
     "locked": true,
     "points": 1,
     "schema_version": 3,
     "solution": false,
     "task": false
    },
    "tags": []
   },
   "outputs": [],
   "source": []
  },
  {
   "cell_type": "code",
   "execution_count": null,
   "id": "0b0445ac-1139-40ac-b803-c67b3fa1d9c4",
   "metadata": {
    "deletable": false,
    "editable": false,
    "id": "0b0445ac-1139-40ac-b803-c67b3fa1d9c4",
    "nbgrader": {
     "cell_type": "code",
     "checksum": "e3e8f1ffbea729b1e38b9921031433bf",
     "grade": true,
     "grade_id": "correct_loss_fn",
     "locked": true,
     "points": 1,
     "schema_version": 3,
     "solution": false,
     "task": false
    },
    "tags": []
   },
   "outputs": [],
   "source": []
  },
  {
   "cell_type": "markdown",
   "id": "20e178c6-bc5a-4932-9a0a-9a8ab5189c78",
   "metadata": {
    "deletable": false,
    "editable": false,
    "id": "20e178c6-bc5a-4932-9a0a-9a8ab5189c78",
    "nbgrader": {
     "cell_type": "markdown",
     "checksum": "7831e2b9dd6b053fce7ebc058a3c5574",
     "grade": false,
     "grade_id": "a1_3_5",
     "locked": true,
     "schema_version": 3,
     "solution": false,
     "task": false
    },
    "tags": []
   },
   "source": [
    "3. Train model for 100 epochs. Record down train and test accuracies. Implement early stopping."
   ]
  },
  {
   "cell_type": "code",
   "execution_count": 6,
   "id": "57924156-c046-4610-b4dd-cebeb683a6d5",
   "metadata": {
    "deletable": false,
    "id": "57924156-c046-4610-b4dd-cebeb683a6d5",
    "nbgrader": {
     "cell_type": "code",
     "checksum": "94cfe370d3e2676874c81aa42b52b1e1",
     "grade": true,
     "grade_id": "training",
     "locked": false,
     "points": 4,
     "schema_version": 3,
     "solution": true,
     "task": false
    },
    "tags": []
   },
   "outputs": [
    {
     "name": "stdout",
     "output_type": "stream",
     "text": [
      "Epoch 10, train_loss 0.002189 train_acc 0.713355, test_loss 0.002400, test_acc 0.704256\n",
      "Epoch 20, train_loss 0.001739 train_acc 0.789193, test_loss 0.002297, test_acc 0.739082\n",
      "Done!\n",
      "Done!\n"
     ]
    }
   ],
   "source": [
    "# YOUR CODE HERE\n",
    "from common_utils import EarlyStopper\n",
    "no_epochs = 100\n",
    "def train_loop(dataloader, model, loss_fn, optimizer):\n",
    "    size = len(dataloader.dataset)\n",
    "\n",
    "    train_loss, correct = 0, 0\n",
    "    model.train()\n",
    "    for batch, (X, y) in enumerate(dataloader):\n",
    "\n",
    "        pred = model(X)\n",
    "        pred = pred.flatten()\n",
    "        loss = loss_fn(pred, y)\n",
    "\n",
    "        optimizer.zero_grad()\n",
    "        loss.backward() \n",
    "        optimizer.step() \n",
    "\n",
    "        train_loss += float(loss.item())\n",
    "        correct += float((pred.round() == y).type(torch.float).sum().float())\n",
    "\n",
    "    train_loss /= size\n",
    "    correct /= size\n",
    "    return train_loss, correct\n",
    "\n",
    "def test_loop(dataloader, model, loss_fn):\n",
    "    size = len(dataloader.dataset)\n",
    "    test_loss, correct = 0, 0\n",
    "    model.eval()\n",
    "    with torch.no_grad():\n",
    "        for X, y in dataloader:\n",
    "            pred = model(X)\n",
    "            pred = pred.flatten()\n",
    "            loss = loss_fn(pred, y)\n",
    "            test_loss += float(loss)\n",
    "            correct += float((pred.round() == y).type(torch.float).sum().float())\n",
    "\n",
    "    test_loss /= size\n",
    "    correct /= size\n",
    " \n",
    "    return test_loss, correct\n",
    "\n",
    "early_stopper = EarlyStopper(patience=3, min_delta=0)\n",
    "train_loss_, train_acc_, test_loss_, test_acc_ = [], [], [], []\n",
    "for epoch in range(no_epochs):\n",
    "    train_loss, train_acc = train_loop(train_dataloader, model, loss_fn, optimizer)\n",
    "    test_loss, test_acc = test_loop(test_dataloader, model, loss_fn)\n",
    "    \n",
    "    train_loss_.append(train_loss), train_acc_.append(train_acc)\n",
    "    test_loss_.append(test_loss), test_acc_.append(test_acc)\n",
    "    \n",
    "    if epoch%10 == 9:\n",
    "        print(f\"Epoch {epoch+1}, train_loss {train_loss:>7f} train_acc {train_acc:>4f}, test_loss {test_loss:>7f}, test_acc {test_acc:>4f}\")\n",
    "    \n",
    "    if early_stopper.early_stop(test_loss): \n",
    "        print(\"Done!\")\n",
    "        break\n",
    "print(\"Done!\")"
   ]
  },
  {
   "cell_type": "markdown",
   "id": "5deafd80-4525-4bff-8a5f-dfee0bfede04",
   "metadata": {
    "deletable": false,
    "editable": false,
    "id": "5deafd80-4525-4bff-8a5f-dfee0bfede04",
    "nbgrader": {
     "cell_type": "markdown",
     "checksum": "4f0d29724a79a38566c9153287e31469",
     "grade": false,
     "grade_id": "a1_4",
     "locked": true,
     "schema_version": 3,
     "solution": false,
     "task": false
    },
    "tags": []
   },
   "source": [
    "#### Plot train and test accuracies and losses on training and test data against training epochs and comment on the line plots.\n"
   ]
  },
  {
   "cell_type": "code",
   "execution_count": 7,
   "id": "b25bf720-a4e3-4e70-b90c-456180f18dcf",
   "metadata": {
    "deletable": false,
    "id": "b25bf720-a4e3-4e70-b90c-456180f18dcf",
    "nbgrader": {
     "cell_type": "code",
     "checksum": "c9ce6934b35dea460dcc15bb9a6dedf4",
     "grade": true,
     "grade_id": "plot",
     "locked": false,
     "points": 0,
     "schema_version": 3,
     "solution": true,
     "task": false
    },
    "tags": []
   },
   "outputs": [
    {
     "data": {
      "image/png": "[encoded data removed]",
      "text/plain": [
       "<Figure size 1000x800 with 1 Axes>"
      ]
     },
     "metadata": {},
     "output_type": "display_data"
    },
    {
     "data": {
      "image/png": "[encoded data removed]",
      "text/plain": [
       "<Figure size 1000x800 with 1 Axes>"
      ]
     },
     "metadata": {},
     "output_type": "display_data"
    }
   ],
   "source": [
    "# YOUR CODE HERE\n",
    "import matplotlib.pyplot as plt\n",
    "\n",
    "fig = plt.figure(figsize=(10,8))\n",
    "plt.plot(range(1,len(train_loss_)+1),train_loss_, label='Training Loss')\n",
    "plt.plot(range(1,len(test_loss_)+1),test_loss_,label='Validation Loss')\n",
    "\n",
    "minposs = test_loss_.index(min(test_loss_))+1 \n",
    "plt.axvline(minposs, linestyle='--', color='r',label='Early Stopping Checkpoint')\n",
    "\n",
    "plt.gca().xaxis.set_major_locator(plt.MaxNLocator(integer=True))\n",
    "plt.xlabel('epochs')\n",
    "plt.ylabel('loss')\n",
    "plt.grid(True)\n",
    "plt.legend()\n",
    "plt.tight_layout()\n",
    "plt.show()\n",
    "\n",
    "fig = plt.figure(figsize=(10,8))\n",
    "plt.plot(range(1,len(train_acc_)+1),train_acc_, label='Training Acc')\n",
    "plt.plot(range(1,len(test_acc_)+1),test_acc_,label='Validation Acc')\n",
    "\n",
    "plt.gca().xaxis.set_major_locator(plt.MaxNLocator(integer=True))\n",
    "plt.xlabel('epochs')\n",
    "plt.ylabel('loss')\n",
    "plt.grid(True)\n",
    "plt.legend()\n",
    "plt.tight_layout()\n",
    "plt.show()"
   ]
  },
  {
   "cell_type": "markdown",
   "id": "3307014b-6a6c-406e-a139-94acc919f5f4",
   "metadata": {
    "deletable": false,
    "editable": false,
    "id": "3307014b-6a6c-406e-a139-94acc919f5f4",
    "nbgrader": {
     "cell_type": "markdown",
     "checksum": "0973f053aaa2d1bde7a2261c1d8cd9c4",
     "grade": false,
     "grade_id": "a1_4_2",
     "locked": true,
     "schema_version": 3,
     "solution": false,
     "task": false
    },
    "tags": []
   },
   "source": [
    "2. Comment on line plots."
   ]
  },
  {
   "cell_type": "code",
   "execution_count": 8,
   "id": "b71af7e2-6ed7-4457-940a-df915d349ee0",
   "metadata": {
    "deletable": false,
    "id": "b71af7e2-6ed7-4457-940a-df915d349ee0",
    "nbgrader": {
     "cell_type": "code",
     "checksum": "d2a6f6433369930987c9e7342cb667b0",
     "grade": false,
     "grade_id": "comment_plots",
     "locked": false,
     "schema_version": 3,
     "solution": true,
     "task": false
    },
    "tags": []
   },
   "outputs": [],
   "source": [
    "# YOUR CODE HERE\n",
    "answer = \"The validation loss and training loss decreases gradually until after epoch 10. The validation loss begins to increase,and hence early stopping kicks in when the validation loss is at its minimum, indicated by the early stopping checkpoint.\""
   ]
  },
  {
   "cell_type": "code",
   "execution_count": null,
   "id": "15fddd83",
   "metadata": {},
   "outputs": [],
   "source": []
  }
 ],
 "metadata": {
  "colab": {
   "provenance": []
  },
  "kernelspec": {
   "display_name": "fyp",
   "language": "python",
   "name": "python3"
  },
  "language_info": {
   "codemirror_mode": {
    "name": "ipython",
    "version": 3
   },
   "file_extension": ".py",
   "mimetype": "text/x-python",
   "name": "python",
   "nbconvert_exporter": "python",
   "pygments_lexer": "ipython3",
   "version": "3.9.16"
  }
 },
 "nbformat": 4,
 "nbformat_minor": 5
}
