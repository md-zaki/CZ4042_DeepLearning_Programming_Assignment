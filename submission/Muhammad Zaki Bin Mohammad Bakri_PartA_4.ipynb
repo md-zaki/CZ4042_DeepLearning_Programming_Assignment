{
 "cells": [
  {
   "cell_type": "markdown",
   "id": "c5cb62ac-8e88-43e6-bce9-da20fabf38ff",
   "metadata": {
    "deletable": false,
    "editable": false,
    "id": "c5cb62ac-8e88-43e6-bce9-da20fabf38ff",
    "nbgrader": {
     "cell_type": "markdown",
     "checksum": "987c7c95a0c7dc71b3d85e154cc3a9be",
     "grade": false,
     "grade_id": "cell-6ebb8bd2f22353d3",
     "locked": true,
     "schema_version": 3,
     "solution": false,
     "task": false
    }
   },
   "source": [
    "# Question A4"
   ]
  },
  {
   "cell_type": "markdown",
   "id": "5c8f824c",
   "metadata": {
    "deletable": false,
    "editable": false,
    "id": "5c8f824c",
    "nbgrader": {
     "cell_type": "markdown",
     "checksum": "17d770ae590711dc06f03d150970a3f1",
     "grade": false,
     "grade_id": "cell-e34b0415c38ebac4",
     "locked": true,
     "schema_version": 3,
     "solution": false,
     "task": false
    }
   },
   "source": [
    "In this section, we will understand the utility of such a neural network in real world scenarios."
   ]
  },
  {
   "cell_type": "markdown",
   "id": "fb9411ad-2324-400e-852e-ff5c0ca716f0",
   "metadata": {
    "deletable": false,
    "editable": false,
    "id": "fb9411ad-2324-400e-852e-ff5c0ca716f0",
    "nbgrader": {
     "cell_type": "markdown",
     "checksum": "287259c58079728b66dae175c6082400",
     "grade": false,
     "grade_id": "cell-4f74b97314b65ea1",
     "locked": true,
     "schema_version": 3,
     "solution": false,
     "task": false
    },
    "tags": []
   },
   "source": [
    "#### Please use the real record data named ‘record.wav’  as a test sample. Preprocess the data using the provided preprocessing script (data_preprocess.ipynb) and prepare the dataset.\n",
    "Do a model prediction on the sample test dataset and obtain the predicted label using a threshold of 0.5. The model used is the optimized pretrained model using the selected optimal batch size and optimal number of neurons.\n",
    "Find the most important features on the model prediction for the test sample using SHAP. Plot the local feature importance with a force plot and explain your observations.  (Refer to the documentation and these three useful references:\n",
    "https://christophm.github.io/interpretable-ml-book/shap.html#examples-5,\n",
    "https://towardsdatascience.com/deep-learning-model-interpretation-using-shap-a21786e91d16,  \n",
    "https://medium.com/mlearning-ai/shap-force-plots-for-classification-d30be430e195)\n",
    "\n"
   ]
  },
  {
   "cell_type": "markdown",
   "id": "981c85ca-9a14-4d0a-b44d-814f02c0f8e1",
   "metadata": {
    "deletable": false,
    "editable": false,
    "id": "981c85ca-9a14-4d0a-b44d-814f02c0f8e1",
    "nbgrader": {
     "cell_type": "markdown",
     "checksum": "30c3b93836aad148380e15933e7dd786",
     "grade": false,
     "grade_id": "cell-b8a265bf37e3b271",
     "locked": true,
     "schema_version": 3,
     "solution": false,
     "task": false
    }
   },
   "source": [
    "1. Firstly, we import relevant libraries."
   ]
  },
  {
   "cell_type": "code",
   "execution_count": 1,
   "id": "58c50f4f",
   "metadata": {
    "deletable": false,
    "editable": false,
    "id": "58c50f4f",
    "nbgrader": {
     "cell_type": "code",
     "checksum": "8f6af6091e2832c850b00e735d1cff11",
     "grade": false,
     "grade_id": "libraries",
     "locked": true,
     "schema_version": 3,
     "solution": false,
     "task": false
    }
   },
   "outputs": [],
   "source": [
    "import tqdm\n",
    "import time\n",
    "import random\n",
    "import numpy as np\n",
    "import pandas as pd\n",
    "import matplotlib.pyplot as plt\n",
    "\n",
    "import torch\n",
    "from torch import nn\n",
    "from torch.utils.data import Dataset\n",
    "from torch.utils.data import DataLoader\n",
    "\n",
    "from scipy.io import wavfile as wav\n",
    "\n",
    "from sklearn import preprocessing\n",
    "from sklearn.model_selection import KFold\n",
    "from sklearn.model_selection import train_test_split\n",
    "from sklearn.metrics import f1_score, precision_score, recall_score, confusion_matrix\n",
    "from common_utils import *\n",
    "\n",
    "# setting seed\n",
    "set_seed()"
   ]
  },
  {
   "cell_type": "markdown",
   "id": "d3444c83",
   "metadata": {
    "deletable": false,
    "editable": false,
    "id": "d3444c83",
    "nbgrader": {
     "cell_type": "markdown",
     "checksum": "d796a3a33dd56bd5afb55de45b642449",
     "grade": false,
     "grade_id": "cell-293c9e85ad81d29a",
     "locked": true,
     "schema_version": 3,
     "solution": false,
     "task": false
    }
   },
   "source": [
    "To reduce repeated code, place your\n",
    "network (MLP defined in QA1)\n",
    "torch datasets (CustomDataset defined in QA1)\n",
    "loss function (loss_fn defined in QA1)\n",
    "in a separate file called common_utils.py\n",
    "\n",
    "Import them into this file. You will not be repenalised for any error in QA1 here as the code in QA1 will not be remarked.\n",
    "\n",
    "The following code cell will not be marked.\n"
   ]
  },
  {
   "cell_type": "code",
   "execution_count": 2,
   "id": "72e8e840",
   "metadata": {
    "deletable": false,
    "id": "72e8e840",
    "nbgrader": {
     "cell_type": "code",
     "checksum": "0c623c0417cb6065d1bbb049f211cf1c",
     "grade": false,
     "grade_id": "cell-29dace0045a28b89",
     "locked": false,
     "schema_version": 3,
     "solution": true,
     "task": false
    }
   },
   "outputs": [
    {
     "data": {
      "text/html": [
       "<div>\n",
       "<style scoped>\n",
       "    .dataframe tbody tr th:only-of-type {\n",
       "        vertical-align: middle;\n",
       "    }\n",
       "\n",
       "    .dataframe tbody tr th {\n",
       "        vertical-align: top;\n",
       "    }\n",
       "\n",
       "    .dataframe thead th {\n",
       "        text-align: right;\n",
       "    }\n",
       "</style>\n",
       "<table border=\"1\" class=\"dataframe\">\n",
       "  <thead>\n",
       "    <tr style=\"text-align: right;\">\n",
       "      <th></th>\n",
       "      <th>filename</th>\n",
       "      <th>tempo</th>\n",
       "      <th>total_beats</th>\n",
       "      <th>average_beats</th>\n",
       "      <th>chroma_stft_mean</th>\n",
       "      <th>chroma_stft_var</th>\n",
       "      <th>chroma_cq_mean</th>\n",
       "      <th>chroma_cq_var</th>\n",
       "      <th>chroma_cens_mean</th>\n",
       "      <th>chroma_cens_var</th>\n",
       "      <th>...</th>\n",
       "      <th>mfcc15_var</th>\n",
       "      <th>mfcc16_mean</th>\n",
       "      <th>mfcc16_var</th>\n",
       "      <th>mfcc17_mean</th>\n",
       "      <th>mfcc17_var</th>\n",
       "      <th>mfcc18_mean</th>\n",
       "      <th>mfcc18_var</th>\n",
       "      <th>mfcc19_mean</th>\n",
       "      <th>mfcc19_var</th>\n",
       "      <th>label</th>\n",
       "    </tr>\n",
       "  </thead>\n",
       "  <tbody>\n",
       "    <tr>\n",
       "      <th>0</th>\n",
       "      <td>app_3001_4001_phnd_neg_0000.wav</td>\n",
       "      <td>184.570312</td>\n",
       "      <td>623</td>\n",
       "      <td>69.222222</td>\n",
       "      <td>0.515281</td>\n",
       "      <td>0.093347</td>\n",
       "      <td>0.443441</td>\n",
       "      <td>0.082742</td>\n",
       "      <td>0.249143</td>\n",
       "      <td>0.021261</td>\n",
       "      <td>...</td>\n",
       "      <td>63.340282</td>\n",
       "      <td>1.811605</td>\n",
       "      <td>58.117188</td>\n",
       "      <td>-3.286546</td>\n",
       "      <td>54.268448</td>\n",
       "      <td>-2.719069</td>\n",
       "      <td>59.548176</td>\n",
       "      <td>-4.559987</td>\n",
       "      <td>70.774803</td>\n",
       "      <td>0</td>\n",
       "    </tr>\n",
       "    <tr>\n",
       "      <th>1</th>\n",
       "      <td>app_3001_4001_phnd_neg_0001.wav</td>\n",
       "      <td>151.999081</td>\n",
       "      <td>521</td>\n",
       "      <td>74.428571</td>\n",
       "      <td>0.487201</td>\n",
       "      <td>0.094461</td>\n",
       "      <td>0.542182</td>\n",
       "      <td>0.073359</td>\n",
       "      <td>0.274423</td>\n",
       "      <td>0.008025</td>\n",
       "      <td>...</td>\n",
       "      <td>90.256195</td>\n",
       "      <td>1.573594</td>\n",
       "      <td>105.070496</td>\n",
       "      <td>-0.742024</td>\n",
       "      <td>82.417496</td>\n",
       "      <td>-1.961745</td>\n",
       "      <td>119.312355</td>\n",
       "      <td>1.513660</td>\n",
       "      <td>101.014572</td>\n",
       "      <td>0</td>\n",
       "    </tr>\n",
       "    <tr>\n",
       "      <th>2</th>\n",
       "      <td>app_3001_4001_phnd_neg_0002.wav</td>\n",
       "      <td>112.347147</td>\n",
       "      <td>1614</td>\n",
       "      <td>146.727273</td>\n",
       "      <td>0.444244</td>\n",
       "      <td>0.099268</td>\n",
       "      <td>0.442014</td>\n",
       "      <td>0.083224</td>\n",
       "      <td>0.264430</td>\n",
       "      <td>0.013410</td>\n",
       "      <td>...</td>\n",
       "      <td>73.079750</td>\n",
       "      <td>0.202623</td>\n",
       "      <td>72.040550</td>\n",
       "      <td>-4.021009</td>\n",
       "      <td>73.844353</td>\n",
       "      <td>-5.916223</td>\n",
       "      <td>103.834824</td>\n",
       "      <td>-2.939086</td>\n",
       "      <td>113.598824</td>\n",
       "      <td>0</td>\n",
       "    </tr>\n",
       "    <tr>\n",
       "      <th>3</th>\n",
       "      <td>app_3001_4001_phnd_neg_0003.wav</td>\n",
       "      <td>107.666016</td>\n",
       "      <td>2060</td>\n",
       "      <td>158.461538</td>\n",
       "      <td>0.454156</td>\n",
       "      <td>0.100834</td>\n",
       "      <td>0.424370</td>\n",
       "      <td>0.084435</td>\n",
       "      <td>0.257672</td>\n",
       "      <td>0.016938</td>\n",
       "      <td>...</td>\n",
       "      <td>93.791893</td>\n",
       "      <td>-0.429413</td>\n",
       "      <td>60.002579</td>\n",
       "      <td>-4.013513</td>\n",
       "      <td>82.544540</td>\n",
       "      <td>-5.858006</td>\n",
       "      <td>84.402092</td>\n",
       "      <td>0.686969</td>\n",
       "      <td>90.126389</td>\n",
       "      <td>0</td>\n",
       "    </tr>\n",
       "    <tr>\n",
       "      <th>4</th>\n",
       "      <td>app_3001_4001_phnd_neg_0004.wav</td>\n",
       "      <td>75.999540</td>\n",
       "      <td>66</td>\n",
       "      <td>33.000000</td>\n",
       "      <td>0.478780</td>\n",
       "      <td>0.100000</td>\n",
       "      <td>0.414859</td>\n",
       "      <td>0.089313</td>\n",
       "      <td>0.252143</td>\n",
       "      <td>0.019757</td>\n",
       "      <td>...</td>\n",
       "      <td>64.973305</td>\n",
       "      <td>0.744403</td>\n",
       "      <td>68.908516</td>\n",
       "      <td>-6.354805</td>\n",
       "      <td>66.414391</td>\n",
       "      <td>-6.555534</td>\n",
       "      <td>47.852840</td>\n",
       "      <td>-4.809713</td>\n",
       "      <td>73.033966</td>\n",
       "      <td>0</td>\n",
       "    </tr>\n",
       "    <tr>\n",
       "      <th>...</th>\n",
       "      <td>...</td>\n",
       "      <td>...</td>\n",
       "      <td>...</td>\n",
       "      <td>...</td>\n",
       "      <td>...</td>\n",
       "      <td>...</td>\n",
       "      <td>...</td>\n",
       "      <td>...</td>\n",
       "      <td>...</td>\n",
       "      <td>...</td>\n",
       "      <td>...</td>\n",
       "      <td>...</td>\n",
       "      <td>...</td>\n",
       "      <td>...</td>\n",
       "      <td>...</td>\n",
       "      <td>...</td>\n",
       "      <td>...</td>\n",
       "      <td>...</td>\n",
       "      <td>...</td>\n",
       "      <td>...</td>\n",
       "      <td>...</td>\n",
       "    </tr>\n",
       "    <tr>\n",
       "      <th>12052</th>\n",
       "      <td>app_3057_4113_phnd_pos_0022.wav</td>\n",
       "      <td>86.132812</td>\n",
       "      <td>1605</td>\n",
       "      <td>160.500000</td>\n",
       "      <td>0.549566</td>\n",
       "      <td>0.078633</td>\n",
       "      <td>0.438854</td>\n",
       "      <td>0.078327</td>\n",
       "      <td>0.258500</td>\n",
       "      <td>0.016511</td>\n",
       "      <td>...</td>\n",
       "      <td>67.892044</td>\n",
       "      <td>3.546391</td>\n",
       "      <td>49.891026</td>\n",
       "      <td>-3.597707</td>\n",
       "      <td>70.953079</td>\n",
       "      <td>-2.672421</td>\n",
       "      <td>62.369473</td>\n",
       "      <td>-3.812236</td>\n",
       "      <td>47.410625</td>\n",
       "      <td>1</td>\n",
       "    </tr>\n",
       "    <tr>\n",
       "      <th>12053</th>\n",
       "      <td>app_3057_4113_phnd_pos_0023.wav</td>\n",
       "      <td>184.570312</td>\n",
       "      <td>3037</td>\n",
       "      <td>168.722222</td>\n",
       "      <td>0.584372</td>\n",
       "      <td>0.074350</td>\n",
       "      <td>0.478900</td>\n",
       "      <td>0.078894</td>\n",
       "      <td>0.258216</td>\n",
       "      <td>0.016658</td>\n",
       "      <td>...</td>\n",
       "      <td>63.430107</td>\n",
       "      <td>3.869859</td>\n",
       "      <td>52.517521</td>\n",
       "      <td>-1.637068</td>\n",
       "      <td>59.811417</td>\n",
       "      <td>-3.041467</td>\n",
       "      <td>55.640205</td>\n",
       "      <td>-5.101839</td>\n",
       "      <td>43.080894</td>\n",
       "      <td>1</td>\n",
       "    </tr>\n",
       "    <tr>\n",
       "      <th>12054</th>\n",
       "      <td>app_3057_4113_phnd_pos_0024.wav</td>\n",
       "      <td>143.554688</td>\n",
       "      <td>1549</td>\n",
       "      <td>129.083333</td>\n",
       "      <td>0.541845</td>\n",
       "      <td>0.088258</td>\n",
       "      <td>0.441677</td>\n",
       "      <td>0.080670</td>\n",
       "      <td>0.261484</td>\n",
       "      <td>0.014959</td>\n",
       "      <td>...</td>\n",
       "      <td>79.961853</td>\n",
       "      <td>3.689087</td>\n",
       "      <td>68.597672</td>\n",
       "      <td>-1.665412</td>\n",
       "      <td>70.761398</td>\n",
       "      <td>0.218386</td>\n",
       "      <td>86.220604</td>\n",
       "      <td>-4.678007</td>\n",
       "      <td>85.629585</td>\n",
       "      <td>1</td>\n",
       "    </tr>\n",
       "    <tr>\n",
       "      <th>12055</th>\n",
       "      <td>app_3057_4113_phnd_pos_0025.wav</td>\n",
       "      <td>143.554688</td>\n",
       "      <td>8820</td>\n",
       "      <td>284.516129</td>\n",
       "      <td>0.532886</td>\n",
       "      <td>0.089102</td>\n",
       "      <td>0.469113</td>\n",
       "      <td>0.077342</td>\n",
       "      <td>0.265298</td>\n",
       "      <td>0.012950</td>\n",
       "      <td>...</td>\n",
       "      <td>80.636742</td>\n",
       "      <td>2.619849</td>\n",
       "      <td>63.592182</td>\n",
       "      <td>-0.559597</td>\n",
       "      <td>62.905022</td>\n",
       "      <td>0.256377</td>\n",
       "      <td>56.687534</td>\n",
       "      <td>-3.086725</td>\n",
       "      <td>62.594326</td>\n",
       "      <td>1</td>\n",
       "    </tr>\n",
       "    <tr>\n",
       "      <th>12056</th>\n",
       "      <td>app_3057_4113_phnd_pos_0026.wav</td>\n",
       "      <td>161.499023</td>\n",
       "      <td>11617</td>\n",
       "      <td>305.710526</td>\n",
       "      <td>0.542927</td>\n",
       "      <td>0.086831</td>\n",
       "      <td>0.453742</td>\n",
       "      <td>0.079466</td>\n",
       "      <td>0.257759</td>\n",
       "      <td>0.016893</td>\n",
       "      <td>...</td>\n",
       "      <td>72.062149</td>\n",
       "      <td>2.075150</td>\n",
       "      <td>64.020851</td>\n",
       "      <td>-2.384962</td>\n",
       "      <td>62.014175</td>\n",
       "      <td>-1.276020</td>\n",
       "      <td>55.155994</td>\n",
       "      <td>-4.978727</td>\n",
       "      <td>51.976971</td>\n",
       "      <td>1</td>\n",
       "    </tr>\n",
       "  </tbody>\n",
       "</table>\n",
       "<p>12057 rows × 79 columns</p>\n",
       "</div>"
      ],
      "text/plain": [
       "                              filename       tempo  total_beats  \\\n",
       "0      app_3001_4001_phnd_neg_0000.wav  184.570312          623   \n",
       "1      app_3001_4001_phnd_neg_0001.wav  151.999081          521   \n",
       "2      app_3001_4001_phnd_neg_0002.wav  112.347147         1614   \n",
       "3      app_3001_4001_phnd_neg_0003.wav  107.666016         2060   \n",
       "4      app_3001_4001_phnd_neg_0004.wav   75.999540           66   \n",
       "...                                ...         ...          ...   \n",
       "12052  app_3057_4113_phnd_pos_0022.wav   86.132812         1605   \n",
       "12053  app_3057_4113_phnd_pos_0023.wav  184.570312         3037   \n",
       "12054  app_3057_4113_phnd_pos_0024.wav  143.554688         1549   \n",
       "12055  app_3057_4113_phnd_pos_0025.wav  143.554688         8820   \n",
       "12056  app_3057_4113_phnd_pos_0026.wav  161.499023        11617   \n",
       "\n",
       "       average_beats  chroma_stft_mean  chroma_stft_var  chroma_cq_mean  \\\n",
       "0          69.222222          0.515281         0.093347        0.443441   \n",
       "1          74.428571          0.487201         0.094461        0.542182   \n",
       "2         146.727273          0.444244         0.099268        0.442014   \n",
       "3         158.461538          0.454156         0.100834        0.424370   \n",
       "4          33.000000          0.478780         0.100000        0.414859   \n",
       "...              ...               ...              ...             ...   \n",
       "12052     160.500000          0.549566         0.078633        0.438854   \n",
       "12053     168.722222          0.584372         0.074350        0.478900   \n",
       "12054     129.083333          0.541845         0.088258        0.441677   \n",
       "12055     284.516129          0.532886         0.089102        0.469113   \n",
       "12056     305.710526          0.542927         0.086831        0.453742   \n",
       "\n",
       "       chroma_cq_var  chroma_cens_mean  chroma_cens_var  ...  mfcc15_var  \\\n",
       "0           0.082742          0.249143         0.021261  ...   63.340282   \n",
       "1           0.073359          0.274423         0.008025  ...   90.256195   \n",
       "2           0.083224          0.264430         0.013410  ...   73.079750   \n",
       "3           0.084435          0.257672         0.016938  ...   93.791893   \n",
       "4           0.089313          0.252143         0.019757  ...   64.973305   \n",
       "...              ...               ...              ...  ...         ...   \n",
       "12052       0.078327          0.258500         0.016511  ...   67.892044   \n",
       "12053       0.078894          0.258216         0.016658  ...   63.430107   \n",
       "12054       0.080670          0.261484         0.014959  ...   79.961853   \n",
       "12055       0.077342          0.265298         0.012950  ...   80.636742   \n",
       "12056       0.079466          0.257759         0.016893  ...   72.062149   \n",
       "\n",
       "       mfcc16_mean  mfcc16_var  mfcc17_mean  mfcc17_var  mfcc18_mean  \\\n",
       "0         1.811605   58.117188    -3.286546   54.268448    -2.719069   \n",
       "1         1.573594  105.070496    -0.742024   82.417496    -1.961745   \n",
       "2         0.202623   72.040550    -4.021009   73.844353    -5.916223   \n",
       "3        -0.429413   60.002579    -4.013513   82.544540    -5.858006   \n",
       "4         0.744403   68.908516    -6.354805   66.414391    -6.555534   \n",
       "...            ...         ...          ...         ...          ...   \n",
       "12052     3.546391   49.891026    -3.597707   70.953079    -2.672421   \n",
       "12053     3.869859   52.517521    -1.637068   59.811417    -3.041467   \n",
       "12054     3.689087   68.597672    -1.665412   70.761398     0.218386   \n",
       "12055     2.619849   63.592182    -0.559597   62.905022     0.256377   \n",
       "12056     2.075150   64.020851    -2.384962   62.014175    -1.276020   \n",
       "\n",
       "       mfcc18_var  mfcc19_mean  mfcc19_var  label  \n",
       "0       59.548176    -4.559987   70.774803      0  \n",
       "1      119.312355     1.513660  101.014572      0  \n",
       "2      103.834824    -2.939086  113.598824      0  \n",
       "3       84.402092     0.686969   90.126389      0  \n",
       "4       47.852840    -4.809713   73.033966      0  \n",
       "...           ...          ...         ...    ...  \n",
       "12052   62.369473    -3.812236   47.410625      1  \n",
       "12053   55.640205    -5.101839   43.080894      1  \n",
       "12054   86.220604    -4.678007   85.629585      1  \n",
       "12055   56.687534    -3.086725   62.594326      1  \n",
       "12056   55.155994    -4.978727   51.976971      1  \n",
       "\n",
       "[12057 rows x 79 columns]"
      ]
     },
     "execution_count": 2,
     "metadata": {},
     "output_type": "execute_result"
    }
   ],
   "source": [
    "# YOUR CODE HERE\n",
    "from common_utils import MLP\n",
    "from common_utils import CustomDataset\n",
    "from common_utils import loss_fn\n",
    "from common_utils import split_dataset, preprocess_dataset\n",
    "from common_utils import EarlyStopper\n",
    "from datetime import datetime\n",
    "df_sim = pd.read_csv('simplified.csv')\n",
    "df_sim['label'] = df_sim['filename'].str.split('_').str[-2]\n",
    "df_sim['label'].value_counts()\n",
    "\n",
    "X_train, y_train, X_test, y_test = split_dataset(df_sim, ['filename', 'label'], 0.3, 0)\n",
    "df_sim"
   ]
  },
  {
   "cell_type": "code",
   "execution_count": null,
   "id": "b12f3ced-a6a1-4628-a409-1ca7bdfd1cfa",
   "metadata": {
    "deletable": false,
    "editable": false,
    "id": "b12f3ced-a6a1-4628-a409-1ca7bdfd1cfa",
    "nbgrader": {
     "cell_type": "code",
     "checksum": "8dbab024c3394801484199efdbbdb269",
     "grade": true,
     "grade_id": "corrected",
     "locked": true,
     "points": 0,
     "schema_version": 3,
     "solution": false,
     "task": false
    }
   },
   "outputs": [],
   "source": []
  },
  {
   "cell_type": "markdown",
   "id": "18fd5d5e",
   "metadata": {
    "deletable": false,
    "editable": false,
    "id": "18fd5d5e",
    "nbgrader": {
     "cell_type": "markdown",
     "checksum": "7da5539e4fe97549a11c7d61be647167",
     "grade": false,
     "grade_id": "cell-1c5bf554b8f89a3d",
     "locked": true,
     "schema_version": 3,
     "solution": false,
     "task": false
    }
   },
   "source": [
    "2. Install and import shap"
   ]
  },
  {
   "cell_type": "code",
   "execution_count": 3,
   "id": "e49be1fc",
   "metadata": {
    "deletable": false,
    "id": "e49be1fc",
    "nbgrader": {
     "cell_type": "code",
     "checksum": "f58a0104d88201d0af7de9fc3a6ca035",
     "grade": false,
     "grade_id": "import_shap",
     "locked": false,
     "schema_version": 3,
     "solution": true,
     "task": false
    }
   },
   "outputs": [],
   "source": [
    "# YOUR CODE HERE\n",
    "import shap"
   ]
  },
  {
   "cell_type": "code",
   "execution_count": null,
   "id": "ef497933-2108-4aa5-8ec8-5729214cb1cd",
   "metadata": {
    "deletable": false,
    "editable": false,
    "id": "ef497933-2108-4aa5-8ec8-5729214cb1cd",
    "nbgrader": {
     "cell_type": "code",
     "checksum": "4cf4df5a01325e8ea1f585dcfc81b01b",
     "grade": true,
     "grade_id": "import_shap_correct",
     "locked": true,
     "points": 1,
     "schema_version": 3,
     "solution": false,
     "task": false
    }
   },
   "outputs": [],
   "source": []
  },
  {
   "cell_type": "markdown",
   "id": "c5fde60a",
   "metadata": {
    "deletable": false,
    "editable": false,
    "id": "c5fde60a",
    "nbgrader": {
     "cell_type": "markdown",
     "checksum": "b8877105a451813ab23b45e9a180bc36",
     "grade": false,
     "grade_id": "cell-82dd5a271bf5af4b",
     "locked": true,
     "schema_version": 3,
     "solution": false,
     "task": false
    }
   },
   "source": [
    "3. Read the csv data preprocessed from 'record.wav', using variable name 'df', and fill the size of 'df' in 'size_row' and 'size_column'."
   ]
  },
  {
   "cell_type": "code",
   "execution_count": 4,
   "id": "81a54d47",
   "metadata": {
    "deletable": false,
    "id": "81a54d47",
    "nbgrader": {
     "cell_type": "code",
     "checksum": "c35348846173e5c042d78be10546ae86",
     "grade": false,
     "grade_id": "cell-01d5f7ef70e69e09",
     "locked": false,
     "schema_version": 3,
     "solution": true,
     "task": false
    }
   },
   "outputs": [],
   "source": [
    "df = pd.read_csv('new_record.csv')\n",
    "size_row = 0\n",
    "size_column = 0\n",
    "# YOUR CODE HERE\n",
    "size_row, size_column = df.shape"
   ]
  },
  {
   "cell_type": "code",
   "execution_count": null,
   "id": "571b0b06-1750-4228-88af-67d8c52035dc",
   "metadata": {
    "deletable": false,
    "editable": false,
    "id": "571b0b06-1750-4228-88af-67d8c52035dc",
    "nbgrader": {
     "cell_type": "code",
     "checksum": "4d137f7e21ec2ea9ad7a57f4411b513a",
     "grade": true,
     "grade_id": "cell-01d5f7ef70e69e0988",
     "locked": true,
     "points": 1,
     "schema_version": 3,
     "solution": false,
     "task": false
    }
   },
   "outputs": [],
   "source": []
  },
  {
   "cell_type": "markdown",
   "id": "558aa470-6d7e-454c-9cda-9ad881d58c53",
   "metadata": {
    "deletable": false,
    "editable": false,
    "id": "558aa470-6d7e-454c-9cda-9ad881d58c53",
    "nbgrader": {
     "cell_type": "markdown",
     "checksum": "d3d13eea6f0ed0d345e10f33dd3a26da",
     "grade": false,
     "grade_id": "cell-7096e580d10284df",
     "locked": true,
     "schema_version": 3,
     "solution": false,
     "task": false
    }
   },
   "source": [
    " 4.  Preprocess to obtain the test data, save the test data as numpy array."
   ]
  },
  {
   "cell_type": "code",
   "execution_count": 5,
   "id": "8c77bd18-c546-473e-8c2f-643b4281d9ba",
   "metadata": {
    "deletable": false,
    "id": "8c77bd18-c546-473e-8c2f-643b4281d9ba",
    "nbgrader": {
     "cell_type": "code",
     "checksum": "b19be33055efd5fc5d562a9c671b6eb2",
     "grade": false,
     "grade_id": "cell-b1e392e8ecab207a",
     "locked": false,
     "schema_version": 3,
     "solution": true,
     "task": false
    },
    "tags": []
   },
   "outputs": [
    {
     "data": {
      "text/plain": [
       "array([[-2.73712628e-01, -8.92799314e-01, -1.49261765e+00,\n",
       "        -1.36015611e+00,  2.07550976e+00,  1.80226262e+00,\n",
       "         1.40764467e+00,  8.95544384e-01, -9.07694115e-01,\n",
       "        -5.32370192e-01, -3.02974203e-01, -3.10532279e+00,\n",
       "         3.28373800e+00,  3.75335937e-01,  2.30938378e+00,\n",
       "        -9.99080051e-01, -7.66492606e-02,  1.33713246e+00,\n",
       "         4.09313941e+00,  1.48814851e+00,  1.80322599e+01,\n",
       "        -5.04299522e+00, -4.27258782e+00,  1.30403458e+00,\n",
       "         1.30403458e+00, -1.12252014e+00, -1.12252014e+00,\n",
       "        -1.19767410e+00, -1.24517280e+00,  1.41662905e+00,\n",
       "         1.30213494e+00,  5.16579237e-02, -8.06896787e-01,\n",
       "        -7.10415155e-01,  6.29920468e-02, -1.15538054e+00,\n",
       "        -9.45651064e-01, -3.09280536e+00,  2.20261274e+00,\n",
       "        -4.17181342e+00,  3.24048070e+00,  1.25496260e+00,\n",
       "         2.03102711e+00, -2.18047302e+00,  9.40526082e-01,\n",
       "         1.01561446e+00, -7.35425939e-01, -1.12877717e+00,\n",
       "         2.98443450e-01,  3.30241627e-01,  5.01976497e-01,\n",
       "        -3.56579203e-01, -4.58978448e-01, -1.31292691e-01,\n",
       "        -2.77494230e-04, -3.07600143e-02, -1.08950161e+00,\n",
       "        -4.59860317e-01, -1.63337436e+00,  9.60012177e-01,\n",
       "        -2.25265970e+00, -4.46751231e-01, -1.57718538e+00,\n",
       "         2.76664888e-01, -1.18609435e+00, -9.72245089e-01,\n",
       "        -4.79813824e-01,  2.87783082e-01, -1.29734121e+00,\n",
       "        -7.82632251e-01, -1.06190426e+00,  1.46339080e-01,\n",
       "        -1.65231923e+00, -1.71514081e-01, -5.70135757e-01,\n",
       "        -7.28960569e-01, -5.42222654e-01]])"
      ]
     },
     "execution_count": 5,
     "metadata": {},
     "output_type": "execute_result"
    }
   ],
   "source": [
    "\n",
    "def preprocess(X_train, df):\n",
    "    \"\"\"preprocess your dataset to obtain your test dataset, remember to remove the 'filename' as Q1\n",
    "    \"\"\"\n",
    "    # YOUR CODE HERE\n",
    "    standard_scaler = preprocessing.StandardScaler()\n",
    "    df_new = df.drop(['filename'], axis = 1)\n",
    "    X_train_scaled = standard_scaler.fit_transform(X_train)\n",
    "    X_test_scaled_eg = standard_scaler.transform(df_new)\n",
    "\n",
    "    return df_new, X_train_scaled, X_test_scaled_eg\n",
    "\n",
    "df_new, X_train_scaled, X_test_scaled_eg = preprocess(X_train, df)\n",
    "X_test_scaled_eg"
   ]
  },
  {
   "cell_type": "code",
   "execution_count": null,
   "id": "e49ee8a7-d9b2-499d-8394-d6cb86f4cb60",
   "metadata": {
    "deletable": false,
    "editable": false,
    "id": "e49ee8a7-d9b2-499d-8394-d6cb86f4cb60",
    "nbgrader": {
     "cell_type": "code",
     "checksum": "b0c0b2a92c7d501f1ac652e11f948461",
     "grade": true,
     "grade_id": "cell-fbe8ba077fb74598",
     "locked": true,
     "points": 1,
     "schema_version": 3,
     "solution": false,
     "task": false
    },
    "tags": []
   },
   "outputs": [],
   "source": []
  },
  {
   "cell_type": "markdown",
   "id": "b6756ab6-92e0-4a5e-b4b9-aebe009f5480",
   "metadata": {
    "deletable": false,
    "editable": false,
    "id": "b6756ab6-92e0-4a5e-b4b9-aebe009f5480",
    "nbgrader": {
     "cell_type": "markdown",
     "checksum": "96d2e019d65c49ba15b3089c2184f021",
     "grade": false,
     "grade_id": "cell-48b4edbfec330f39",
     "locked": true,
     "schema_version": 3,
     "solution": false,
     "task": false
    }
   },
   "source": [
    "5. Do a model prediction on the sample test dataset and obtain the predicted label using a threshold of 0.5. The model used is the optimized pretrained model using the selected optimal batch size and optimal number of neurons. Note: Please define the variable of your final predicted label as 'pred_label'."
   ]
  },
  {
   "cell_type": "code",
   "execution_count": 6,
   "id": "8fa3afdf-eed6-47b9-9acc-bc2304c46ec3",
   "metadata": {
    "deletable": false,
    "id": "8fa3afdf-eed6-47b9-9acc-bc2304c46ec3",
    "nbgrader": {
     "cell_type": "code",
     "checksum": "276ec9575db4ca701823a459809ea810",
     "grade": true,
     "grade_id": "cell-e83cb49660edc2b7",
     "locked": false,
     "points": 4,
     "schema_version": 3,
     "solution": true,
     "task": false
    },
    "tags": []
   },
   "outputs": [
    {
     "name": "stdout",
     "output_type": "stream",
     "text": [
      "0.9370472431182861\n",
      "pos\n"
     ]
    }
   ],
   "source": [
    "# YOUR CODE HERE\n",
    "model = torch.load('pretrained_model.pth')\n",
    "model.eval()\n",
    "pred = model(torch.tensor(X_test_scaled_eg, dtype=torch.float))\n",
    "if pred >= 0.5:\n",
    "    pred_label = \"pos\"\n",
    "else:\n",
    "    pred_label = \"neg\"\n",
    "\n",
    "print(pred.item())\n",
    "print(pred_label)"
   ]
  },
  {
   "cell_type": "code",
   "execution_count": null,
   "id": "da2fc2cc-b89f-4fc3-af16-e30b4e5315a3",
   "metadata": {
    "deletable": false,
    "editable": false,
    "id": "da2fc2cc-b89f-4fc3-af16-e30b4e5315a3",
    "nbgrader": {
     "cell_type": "code",
     "checksum": "704df2be8fbd85ba163a89cd2e0431f0",
     "grade": true,
     "grade_id": "predict_value",
     "locked": true,
     "points": 1,
     "schema_version": 3,
     "solution": false,
     "task": false
    }
   },
   "outputs": [],
   "source": []
  },
  {
   "cell_type": "markdown",
   "id": "baab6e4d-4e8b-4358-a68d-682f60db4a06",
   "metadata": {
    "deletable": false,
    "editable": false,
    "id": "baab6e4d-4e8b-4358-a68d-682f60db4a06",
    "nbgrader": {
     "cell_type": "markdown",
     "checksum": "eac3438866b5ebd40f5fb20a676059bd",
     "grade": false,
     "grade_id": "cell-896f18b6b0b948ea",
     "locked": true,
     "schema_version": 3,
     "solution": false,
     "task": false
    }
   },
   "source": [
    "6. Find the most important features on the model prediction for your test sample using SHAP. Create an instance of the DeepSHAP which is called DeepExplainer using traianing dataset: https://shap-lrjball.readthedocs.io/en/latest/generated/shap.DeepExplainer.html.\n",
    "\n",
    "Plot the local feature importance with a force plot and explain your observations.  (Refer to the documentation and these three useful references:\n",
    "https://christophm.github.io/interpretable-ml-book/shap.html#examples-5,\n",
    "https://towardsdatascience.com/deep-learning-model-interpretation-using-shap-a21786e91d16,  \n",
    "https://medium.com/mlearning-ai/shap-force-plots-for-classification-d30be430e195)\n"
   ]
  },
  {
   "cell_type": "code",
   "execution_count": 9,
   "id": "081aa567-cd92-4749-93fd-fc6608a1f6ae",
   "metadata": {
    "deletable": false,
    "id": "081aa567-cd92-4749-93fd-fc6608a1f6ae",
    "nbgrader": {
     "cell_type": "code",
     "checksum": "db46b1b26fd45359768421987104ac3e",
     "grade": true,
     "grade_id": "importance_weight",
     "locked": false,
     "points": 2,
     "schema_version": 3,
     "solution": true,
     "task": false
    },
    "tags": []
   },
   "outputs": [
    {
     "data": {
      "image/png": "[encoded data removed]",
      "text/plain": [
       "<Figure size 2000x300 with 1 Axes>"
      ]
     },
     "metadata": {},
     "output_type": "display_data"
    }
   ],
   "source": [
    "'''\n",
    "Fit the explainer on a subset of the data (you can try all but then gets slower)\n",
    "Return approximate SHAP values for the model applied to the data given by X.\n",
    "Plot the local feature importance with a force plot and explain your observations.\n",
    "'''\n",
    "explainer = shap.DeepExplainer(model, torch.tensor(X_train_scaled, dtype=torch.float))\n",
    "shap_values = explainer.shap_values(torch.tensor(X_test_scaled_eg, dtype=torch.float))\n",
    "shap.force_plot(explainer.expected_value[0], shap_values[0], features= df_new.columns, matplotlib=True)\n",
    "explaination = \"The biggest positive contributor is spec_bw_var while the biggest negative contributor is cent_var\""
   ]
  },
  {
   "cell_type": "code",
   "execution_count": null,
   "id": "13a7dc24",
   "metadata": {},
   "outputs": [],
   "source": []
  }
 ],
 "metadata": {
  "colab": {
   "provenance": []
  },
  "kernelspec": {
   "display_name": "Python 3 (ipykernel)",
   "language": "python",
   "name": "python3"
  },
  "language_info": {
   "codemirror_mode": {
    "name": "ipython",
    "version": 3
   },
   "file_extension": ".py",
   "mimetype": "text/x-python",
   "name": "python",
   "nbconvert_exporter": "python",
   "pygments_lexer": "ipython3",
   "version": "3.9.16"
  }
 },
 "nbformat": 4,
 "nbformat_minor": 5
}
